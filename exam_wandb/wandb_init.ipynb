{
 "cells": [
  {
   "cell_type": "code",
   "execution_count": null,
   "id": "ecdd96c8",
   "metadata": {},
   "outputs": [],
   "source": [
    "import wandb\n",
    "import random\n",
    "\n",
    "# 1. (Optional) 하이퍼파라미터 기본값 설정\n",
    "config = {\n",
    "    \"learning_rate\": 0.01,\n",
    "    \"epochs\": 10,\n",
    "    \"batch_size\": 32\n",
    "}\n",
    "\n",
    "# 2. wandb.init(): 실험(Run) 시작 및 config 저장\n",
    "# project: 실험들을 그룹화하는 최상위 폴더 (6강 PDF 13페이지)\n",
    "# config: 하이퍼파라미터 저장 (6강 PDF 20페이지)\n",
    "with wandb.init(project=\"my-awesome-project\", config=config) as run:\n",
    "    # config 객체는 run.config를 통해 접근 가능\n",
    "    lr = run.config.learning_rate\n",
    "    \n",
    "    # === 가상 학습 루프 ===\n",
    "    for epoch in range(run.config.epochs):\n",
    "        # ... (모델 학습 코드) ...\n",
    "        \n",
    "        # 3. wandb.log(): 실시간 지표(metric) 로깅\n",
    "        # 딕셔너리 형태로 {\"메트릭_이름\": 값}을 전달 (6강 PDF 21페이지)\n",
    "        acc = 0.8 + (epoch / 50) + random.random() / 10\n",
    "        loss = 0.2 - (epoch / 100) + random.random() / 20\n",
    "        \n",
    "        run.log({\"accuracy\": acc, \"loss\": loss, \"epoch\": epoch})\n",
    "\n",
    "# 'with' 구문이 끝나면 run.finish()가 자동으로 호출되어 실험이 종료됩니다."
   ]
  },
  {
   "cell_type": "code",
   "execution_count": 9,
   "id": "abda3346",
   "metadata": {},
   "outputs": [
    {
     "name": "stdout",
     "output_type": "stream",
     "text": [
      "Current working directory: c:\\develop\\exam_wandb\\dataset\n"
     ]
    }
   ],
   "source": [
    "import os\n",
    "\n",
    "os.chdir('c:/develop/exam_wandb/dataset')\n",
    "print(\"Current working directory:\", os.getcwd())\n"
   ]
  },
  {
   "cell_type": "code",
   "execution_count": null,
   "id": "6e00ae47",
   "metadata": {},
   "outputs": [
    {
     "name": "stderr",
     "output_type": "stream",
     "text": [
      "wandb: Currently logged in as: rlaqudwn123456 (rlaqudwn123456-dankook-university) to https://api.wandb.ai. Use `wandb login --relogin` to force relogin\n"
     ]
    },
    {
     "data": {
      "text/html": [],
      "text/plain": [
       "<IPython.core.display.HTML object>"
      ]
     },
     "metadata": {},
     "output_type": "display_data"
    },
    {
     "data": {
      "text/html": [
       "Tracking run with wandb version 0.22.2"
      ],
      "text/plain": [
       "<IPython.core.display.HTML object>"
      ]
     },
     "metadata": {},
     "output_type": "display_data"
    },
    {
     "data": {
      "text/html": [
       "Run data is saved locally in <code>c:\\develop\\wandb\\run-20251026_190708-80kl1gyt</code>"
      ],
      "text/plain": [
       "<IPython.core.display.HTML object>"
      ]
     },
     "metadata": {},
     "output_type": "display_data"
    },
    {
     "data": {
      "text/html": [
       "Syncing run <strong><a href='https://wandb.ai/rlaqudwn123456-dankook-university/preprocess-pipeline/runs/80kl1gyt' target=\"_blank\">clean-night-12</a></strong> to <a href='https://wandb.ai/rlaqudwn123456-dankook-university/preprocess-pipeline' target=\"_blank\">Weights & Biases</a> (<a href='https://wandb.me/developer-guide' target=\"_blank\">docs</a>)<br>"
      ],
      "text/plain": [
       "<IPython.core.display.HTML object>"
      ]
     },
     "metadata": {},
     "output_type": "display_data"
    },
    {
     "data": {
      "text/html": [
       " View project at <a href='https://wandb.ai/rlaqudwn123456-dankook-university/preprocess-pipeline' target=\"_blank\">https://wandb.ai/rlaqudwn123456-dankook-university/preprocess-pipeline</a>"
      ],
      "text/plain": [
       "<IPython.core.display.HTML object>"
      ]
     },
     "metadata": {},
     "output_type": "display_data"
    },
    {
     "data": {
      "text/html": [
       " View run at <a href='https://wandb.ai/rlaqudwn123456-dankook-university/preprocess-pipeline/runs/80kl1gyt' target=\"_blank\">https://wandb.ai/rlaqudwn123456-dankook-university/preprocess-pipeline/runs/80kl1gyt</a>"
      ],
      "text/plain": [
       "<IPython.core.display.HTML object>"
      ]
     },
     "metadata": {},
     "output_type": "display_data"
    },
    {
     "data": {
      "text/html": [],
      "text/plain": [
       "<IPython.core.display.HTML object>"
      ]
     },
     "metadata": {},
     "output_type": "display_data"
    },
    {
     "data": {
      "text/html": [
       " View run <strong style=\"color:#cdcd00\">clean-night-12</strong> at: <a href='https://wandb.ai/rlaqudwn123456-dankook-university/preprocess-pipeline/runs/80kl1gyt' target=\"_blank\">https://wandb.ai/rlaqudwn123456-dankook-university/preprocess-pipeline/runs/80kl1gyt</a><br> View project at: <a href='https://wandb.ai/rlaqudwn123456-dankook-university/preprocess-pipeline' target=\"_blank\">https://wandb.ai/rlaqudwn123456-dankook-university/preprocess-pipeline</a><br>Synced 5 W&B file(s), 0 media file(s), 0 artifact file(s) and 0 other file(s)"
      ],
      "text/plain": [
       "<IPython.core.display.HTML object>"
      ]
     },
     "metadata": {},
     "output_type": "display_data"
    },
    {
     "data": {
      "text/html": [
       "Find logs at: <code>.\\wandb\\run-20251026_190708-80kl1gyt\\logs</code>"
      ],
      "text/plain": [
       "<IPython.core.display.HTML object>"
      ]
     },
     "metadata": {},
     "output_type": "display_data"
    }
   ],
   "source": [
    "import wandb\n",
    "import pandas as pd\n",
    "\n",
    "# wandb 를 열 때 프로젝트 이름과 어떤일을 할 것인지 정해야 한다\n",
    "with wandb.init(project=\"preprocess-pipeline\", job_type= \"upload-dataset\") as run:\n",
    "    articact = wandb.Artifact('review-preprocessed', type='dataset')\n",
    "    \n",
    "    articact.add_file('movie_reviews.csv')\n",
    "    \n",
    "    run.log_artifact(articact)"
   ]
  }
 ],
 "metadata": {
  "kernelspec": {
   "display_name": "upstage312_gpu",
   "language": "python",
   "name": "python3"
  },
  "language_info": {
   "codemirror_mode": {
    "name": "ipython",
    "version": 3
   },
   "file_extension": ".py",
   "mimetype": "text/x-python",
   "name": "python",
   "nbconvert_exporter": "python",
   "pygments_lexer": "ipython3",
   "version": "3.12.12"
  }
 },
 "nbformat": 4,
 "nbformat_minor": 5
}
