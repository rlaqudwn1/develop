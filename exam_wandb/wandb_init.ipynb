{
 "cells": [
  {
   "cell_type": "code",
   "execution_count": null,
   "id": "ecdd96c8",
   "metadata": {},
   "outputs": [
    {
     "data": {
      "text/html": [],
      "text/plain": [
       "<IPython.core.display.HTML object>"
      ]
     },
     "metadata": {},
     "output_type": "display_data"
    },
    {
     "data": {
      "text/html": [
       "Tracking run with wandb version 0.22.2"
      ],
      "text/plain": [
       "<IPython.core.display.HTML object>"
      ]
     },
     "metadata": {},
     "output_type": "display_data"
    },
    {
     "data": {
      "text/html": [
       "Run data is saved locally in <code>c:\\develop\\wandb\\run-20251026_184658-15l2jtns</code>"
      ],
      "text/plain": [
       "<IPython.core.display.HTML object>"
      ]
     },
     "metadata": {},
     "output_type": "display_data"
    },
    {
     "data": {
      "text/html": [
       "Syncing run <strong><a href='https://wandb.ai/rlaqudwn123456-dankook-university/my-awesome-project/runs/15l2jtns' target=\"_blank\">apricot-sun-1</a></strong> to <a href='https://wandb.ai/rlaqudwn123456-dankook-university/my-awesome-project' target=\"_blank\">Weights & Biases</a> (<a href='https://wandb.me/developer-guide' target=\"_blank\">docs</a>)<br>"
      ],
      "text/plain": [
       "<IPython.core.display.HTML object>"
      ]
     },
     "metadata": {},
     "output_type": "display_data"
    },
    {
     "data": {
      "text/html": [
       " View project at <a href='https://wandb.ai/rlaqudwn123456-dankook-university/my-awesome-project' target=\"_blank\">https://wandb.ai/rlaqudwn123456-dankook-university/my-awesome-project</a>"
      ],
      "text/plain": [
       "<IPython.core.display.HTML object>"
      ]
     },
     "metadata": {},
     "output_type": "display_data"
    },
    {
     "data": {
      "text/html": [
       " View run at <a href='https://wandb.ai/rlaqudwn123456-dankook-university/my-awesome-project/runs/15l2jtns' target=\"_blank\">https://wandb.ai/rlaqudwn123456-dankook-university/my-awesome-project/runs/15l2jtns</a>"
      ],
      "text/plain": [
       "<IPython.core.display.HTML object>"
      ]
     },
     "metadata": {},
     "output_type": "display_data"
    },
    {
     "name": "stderr",
     "output_type": "stream",
     "text": [
      "\u001b[34m\u001b[1mwandb\u001b[0m: \u001b[32m\u001b[41mERROR\u001b[0m The nbformat package was not found. It is required to save notebook history.\n"
     ]
    },
    {
     "data": {
      "text/html": [],
      "text/plain": [
       "<IPython.core.display.HTML object>"
      ]
     },
     "metadata": {},
     "output_type": "display_data"
    },
    {
     "data": {
      "text/html": [
       "<br>    <style><br>        .wandb-row {<br>            display: flex;<br>            flex-direction: row;<br>            flex-wrap: wrap;<br>            justify-content: flex-start;<br>            width: 100%;<br>        }<br>        .wandb-col {<br>            display: flex;<br>            flex-direction: column;<br>            flex-basis: 100%;<br>            flex: 1;<br>            padding: 10px;<br>        }<br>    </style><br><div class=\"wandb-row\"><div class=\"wandb-col\"><h3>Run history:</h3><br/><table class=\"wandb\"><tr><td>accuracy</td><td>▃▃▁▆▆▅▆███</td></tr><tr><td>epoch</td><td>▁▂▃▃▄▅▆▆▇█</td></tr><tr><td>loss</td><td>█▆█▅▇▄▂▅▁▂</td></tr></table><br/></div><div class=\"wandb-col\"><h3>Run summary:</h3><br/><table class=\"wandb\"><tr><td>accuracy</td><td>0.99896</td></tr><tr><td>epoch</td><td>9</td></tr><tr><td>loss</td><td>0.14417</td></tr></table><br/></div></div>"
      ],
      "text/plain": [
       "<IPython.core.display.HTML object>"
      ]
     },
     "metadata": {},
     "output_type": "display_data"
    },
    {
     "data": {
      "text/html": [
       " View run <strong style=\"color:#cdcd00\">apricot-sun-1</strong> at: <a href='https://wandb.ai/rlaqudwn123456-dankook-university/my-awesome-project/runs/15l2jtns' target=\"_blank\">https://wandb.ai/rlaqudwn123456-dankook-university/my-awesome-project/runs/15l2jtns</a><br> View project at: <a href='https://wandb.ai/rlaqudwn123456-dankook-university/my-awesome-project' target=\"_blank\">https://wandb.ai/rlaqudwn123456-dankook-university/my-awesome-project</a><br>Synced 5 W&B file(s), 0 media file(s), 0 artifact file(s) and 0 other file(s)"
      ],
      "text/plain": [
       "<IPython.core.display.HTML object>"
      ]
     },
     "metadata": {},
     "output_type": "display_data"
    },
    {
     "data": {
      "text/html": [
       "Find logs at: <code>.\\wandb\\run-20251026_184658-15l2jtns\\logs</code>"
      ],
      "text/plain": [
       "<IPython.core.display.HTML object>"
      ]
     },
     "metadata": {},
     "output_type": "display_data"
    }
   ],
   "source": [
    "import wandb\n",
    "import random\n",
    "\n",
    "# 1. (Optional) 하이퍼파라미터 기본값 설정\n",
    "config = {\n",
    "    \"learning_rate\": 0.01,\n",
    "    \"epochs\": 10,\n",
    "    \"batch_size\": 32\n",
    "}\n",
    "\n",
    "# 2. wandb.init(): 실험(Run) 시작 및 config 저장\n",
    "# project: 실험들을 그룹화하는 최상위 폴더 (6강 PDF 13페이지)\n",
    "# config: 하이퍼파라미터 저장 (6강 PDF 20페이지)\n",
    "with wandb.init(project=\"my-awesome-project\", config=config) as run:\n",
    "    # config 객체는 run.config를 통해 접근 가능\n",
    "    lr = run.config.learning_rate\n",
    "    \n",
    "    # === 가상 학습 루프 ===\n",
    "    for epoch in range(run.config.epochs):\n",
    "        # ... (모델 학습 코드) ...\n",
    "        \n",
    "        # 3. wandb.log(): 실시간 지표(metric) 로깅\n",
    "        # 딕셔너리 형태로 {\"메트릭_이름\": 값}을 전달 (6강 PDF 21페이지)\n",
    "        acc = 0.8 + (epoch / 50) + random.random() / 10\n",
    "        loss = 0.2 - (epoch / 100) + random.random() / 20\n",
    "        \n",
    "        run.log({\"accuracy\": acc, \"loss\": loss, \"epoch\": epoch})\n",
    "\n",
    "# 'with' 구문이 끝나면 run.finish()가 자동으로 호출되어 실험이 종료됩니다."
   ]
  },
  {
   "cell_type": "code",
   "execution_count": null,
   "id": "6e00ae47",
   "metadata": {},
   "outputs": [],
   "source": []
  }
 ],
 "metadata": {
  "kernelspec": {
   "display_name": "upstage312_gpu",
   "language": "python",
   "name": "python3"
  },
  "language_info": {
   "codemirror_mode": {
    "name": "ipython",
    "version": 3
   },
   "file_extension": ".py",
   "mimetype": "text/x-python",
   "name": "python",
   "nbconvert_exporter": "python",
   "pygments_lexer": "ipython3",
   "version": "3.12.12"
  }
 },
 "nbformat": 4,
 "nbformat_minor": 5
}
